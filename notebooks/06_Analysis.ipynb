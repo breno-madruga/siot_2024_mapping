{
 "cells": [
  {
   "cell_type": "markdown",
   "metadata": {},
   "source": [
    "# Analysis of Manuscripts related to Tiny Generative AI"
   ]
  },
  {
   "cell_type": "markdown",
   "metadata": {},
   "source": [
    "## 1. Importing the libraries"
   ]
  },
  {
   "cell_type": "code",
   "execution_count": null,
   "metadata": {},
   "outputs": [],
   "source": [
    "# Importing the required libraries.\n",
    "import csv, pandas as pd, numpy as np\n",
    "import matplotlib.pyplot as plt, seaborn as sns, matplotlib.lines as mlines\n",
    "from matplotlib import cm"
   ]
  },
  {
   "cell_type": "markdown",
   "metadata": {},
   "source": [
    "## 2. Getting the data"
   ]
  },
  {
   "cell_type": "code",
   "execution_count": null,
   "metadata": {},
   "outputs": [],
   "source": [
    "# Creating a dataframe from the data.\n",
    "df_data = pd.read_csv(\"../data/prepared/final_tiny_genai.csv\", header=0, dtype=object)"
   ]
  },
  {
   "cell_type": "code",
   "execution_count": null,
   "metadata": {},
   "outputs": [],
   "source": [
    "# Getting the data of characterization of manuscripts related to the approaches.\n",
    "df_clusters = pd.read_csv(\"../data/cluster_manuscripts.csv\", header=0, index_col=False, dtype=object)"
   ]
  },
  {
   "cell_type": "code",
   "execution_count": null,
   "metadata": {},
   "outputs": [],
   "source": [
    "# Getting the data of characterization of manuscripts related to the multimodal models.\n",
    "df_modal = pd.read_csv(\"../data/multimodal.csv\", header=0, index_col=False, dtype=object)"
   ]
  },
  {
   "cell_type": "markdown",
   "metadata": {},
   "source": [
    "## 3. Preprocessing the data"
   ]
  },
  {
   "cell_type": "code",
   "execution_count": null,
   "metadata": {},
   "outputs": [],
   "source": [
    "# Ver se é realmente excluded: 85174242719, 85124404792\n",
    "ids = [\"WOS:001113618700001\", \"WOS:001115816700001\", \"WOS:001134125600001\", \"85137545603\", \"85138387466\",\n",
    "       \"85149435768\", \"85154622483\", \"85159857945\", \"85171302111\", \"85171522777\", \"85172291414\",\n",
    "       \"85174416073\", \"85176314091\", \"85177554366\", \"85177602386\", \"85179556106\", \"85180795696\",\n",
    "       \"85183293539\", \"85183296628\", \"85183802322\", \"85185765289\", \"85186648507\", \"85190237480\",\n",
    "       \"85192795312\", \"85181907943\", \"85174821496\", \"85184585506\", \"85193991709\", \"85190595763\",\n",
    "       \"85174242719\", \"85160023694\", \"85194480879\", \"85189499366\", \"85138236299\", \"85186584200\",\n",
    "       \"85121137332\", \"85124404792\", \"85123940821\", \"85179853539\", \"85189238917\", \"85165029279\",\n",
    "       \"85189496851\", \"85185411206\", \"85180766190\", \"85184270807\", \"85164941428\", \"85189331552\",\n",
    "       \"85192192383\", \"85182519704\", \"85178618093\", \"85172763360\", \"85193023067\", \"85168656299\",\n",
    "       \"85190371753\"]\n",
    "len(ids)"
   ]
  },
  {
   "cell_type": "code",
   "execution_count": null,
   "metadata": {},
   "outputs": [],
   "source": [
    "# Excluding the irrelevant manuscripts.\n",
    "df_data = df_data[~df_data.id.isin(ids)]"
   ]
  },
  {
   "cell_type": "code",
   "execution_count": null,
   "metadata": {},
   "outputs": [],
   "source": [
    "# Defining the \"None\" value for the \"NaN\" values.\n",
    "df_data.replace({np.nan: None}, inplace=True)"
   ]
  },
  {
   "cell_type": "code",
   "execution_count": null,
   "metadata": {},
   "outputs": [],
   "source": [
    "# Changing the type of features.\n",
    "df_data.loc[:, [\"auth_keywords\", \"affiliations\", \"subject_areas\", \"authors\"]] = \\\n",
    "    df_data.loc[:, [\"auth_keywords\", \"affiliations\", \"subject_areas\", \"authors\"]].apply(\n",
    "        lambda x: x.apply(lambda y: eval(y) if y else None), axis=1)\n",
    "df_data.publication_date = pd.to_datetime(df_data.publication_date)\n",
    "df_data.year = df_data.year.astype(np.int32)"
   ]
  },
  {
   "cell_type": "code",
   "execution_count": null,
   "metadata": {},
   "outputs": [],
   "source": [
    "# Including the \"category\" feature.\n",
    "df_data.loc[:, \"category\"] = df_data.id.apply(lambda x: df_clusters[df_clusters.id == x].category.item())"
   ]
  },
  {
   "cell_type": "code",
   "execution_count": null,
   "metadata": {},
   "outputs": [],
   "source": [
    "# Including the \"multimodal\" feature.\n",
    "df_data.loc[:, \"multimodal\"] = df_data.id.apply(lambda x: df_modal[df_modal.id == x].multimodal.item())"
   ]
  },
  {
   "cell_type": "markdown",
   "metadata": {},
   "source": [
    "## 4. Utils Functions"
   ]
  },
  {
   "cell_type": "code",
   "execution_count": null,
   "metadata": {},
   "outputs": [],
   "source": [
    "class Plots:\n",
    "\n",
    "    @staticmethod\n",
    "    def set_config_matplotlib(fig_size=None):\n",
    "        \"\"\" Function that configures the Matplotlib. \"\"\"\n",
    "        sns.reset_orig()\n",
    "        plt.style.use(\"ggplot\")\n",
    "        if not fig_size:\n",
    "            fig_size = (12, 8)\n",
    "        plt.rcParams.update({\"figure.figsize\": fig_size, \"figure.autolayout\": True,\n",
    "            \"figure.dpi\": 300, \"font.size\": 12, \"figure.facecolor\": \"white\"})\n",
    "\n",
    "    @staticmethod\n",
    "    def plot_single_bar_chart(x_values, y_values, title, x_label, y_label, width=0.35, y_max_lim=None, name_fig=None, rotation_x=None):\n",
    "        \"\"\" Function to plot a single and vertical bars chart.\n",
    "\n",
    "        Parameters:\n",
    "        -----------\n",
    "        * x_values (list): the x coordinates of the bars.\n",
    "        * y_values (list): the y coordinates of the bars\n",
    "        * title (str): the title of chart.\n",
    "        * x_label (str): the label of the x-axis.\n",
    "        * y_label (str): the label of the y-axis.\n",
    "        * width (float, optional): the width of bars. Defaults to 0.35.\n",
    "        * y_max_lim (float, optional): the maximum limit of y axis. Default to None.\n",
    "        * name_fig (str, optional): the destination location/path to save a image of chart. Defaults to None.\n",
    "        * rotation_x (float, optional): the angle (in degrees) of the x-axis ticks. Defaults to None.\n",
    "        \"\"\"\n",
    "\n",
    "        x = np.arange(len(x_values)) # the label locations\n",
    "\n",
    "        # Defining the colors.\n",
    "        colors = [\"blue\"] * len(x_values)\n",
    "\n",
    "        fig, ax = plt.subplots()\n",
    "        rects = ax.barh(x, y_values, height=width, color=colors)\n",
    "\n",
    "        # Add some text for labels, title and custom x-axis tick labels, etc.\n",
    "        ax.set_ylabel(x_label)\n",
    "        ax.set_xlabel(y_label)\n",
    "        ax.set_title(title)\n",
    "        ax.set_yticks(x)\n",
    "        ax.set_yticklabels(x_values, rotation=rotation_x)\n",
    "\n",
    "        if not y_max_lim:\n",
    "            y_max_lim = max(y_values) + 10\n",
    "        ax.set_xlim([0, y_max_lim])\n",
    "\n",
    "        num_format = \"{:.2f}\" if isinstance(y_values.iloc[0], float) else \"{:d}\"\n",
    "\n",
    "        rotation_annotation = 60 if rotation_x else None\n",
    "        def autolabel(rects):\n",
    "            \"\"\"Attach a text label to the right of each bar in rects, displaying its height.\"\"\"\n",
    "            for rect in rects:\n",
    "                width = rect.get_width()\n",
    "                ax.annotate(num_format.format(width),\n",
    "                            xy=(width, rect.get_y() + rect.get_height() / 2),\n",
    "                            xytext=(3, 0),  # 3 points horizontal offset\n",
    "                            textcoords=\"offset points\",\n",
    "                            ha=\"left\", va=\"center\", rotation=rotation_annotation)\n",
    "\n",
    "        autolabel(rects)\n",
    "        fig.tight_layout()\n",
    "        if name_fig:\n",
    "            plt.savefig(name_fig)\n",
    "        plt.show()\n",
    "\n",
    "\n",
    "    @staticmethod\n",
    "    def plot_pie_chart(x_values, y_values, title, name_fig=None):\n",
    "        fig, ax = plt.subplots()\n",
    "        wedges, texts, autotexts = ax.pie(y_values, autopct=lambda pct: \"\", startangle=90, pctdistance=0.85)\n",
    "        ax.axis('equal')\n",
    "        ax.set_title(title)\n",
    "        \n",
    "        # Adding the legend.\n",
    "        ax.legend(wedges, x_values, loc=\"lower center\", bbox_to_anchor=(1, 0, 0.5, 1))\n",
    "    \n",
    "        # Drawing lines associating the labels to the slices.\n",
    "        for i, wedge in enumerate(wedges):\n",
    "            ang = (wedge.theta2 - wedge.theta1) / 2. + wedge.theta1\n",
    "            y = np.sin(np.deg2rad(ang))\n",
    "            x = np.cos(np.deg2rad(ang))\n",
    "            horizontalalignment = {-1: \"right\", 1: \"left\"}[int(np.sign(x))]\n",
    "            connectionstyle = \"angle,angleA=0,angleB={}\".format(ang)\n",
    "            ax.annotate(\"{:.1f}%\".format(y_values.iloc[i]), fontsize=15,\n",
    "                        xy=(x, y), xytext=(1.1*np.sign(x), 1.2*y),\n",
    "                        horizontalalignment=horizontalalignment,\n",
    "                        bbox=dict(fc=\"white\", ec=\"white\", lw=0.01),\n",
    "                        arrowprops=dict(arrowstyle=\"-\", color='black', connectionstyle=connectionstyle))\n",
    "\n",
    "        # Exibe o gráfico\n",
    "        fig.tight_layout()\n",
    "        if name_fig:\n",
    "            plt.savefig(name_fig)\n",
    "        plt.show()\n"
   ]
  },
  {
   "cell_type": "markdown",
   "metadata": {},
   "source": [
    "## 5. Data Analysis"
   ]
  },
  {
   "cell_type": "code",
   "execution_count": null,
   "metadata": {},
   "outputs": [],
   "source": [
    "Plots.set_config_matplotlib()"
   ]
  },
  {
   "cell_type": "markdown",
   "metadata": {},
   "source": [
    "### 5.1. Countries"
   ]
  },
  {
   "cell_type": "code",
   "execution_count": null,
   "metadata": {},
   "outputs": [],
   "source": [
    "# Getting the data.\n",
    "countries = df_data.loc[df_data.affiliations.notnull(), \"affiliations\"].copy()"
   ]
  },
  {
   "cell_type": "code",
   "execution_count": null,
   "metadata": {},
   "outputs": [],
   "source": [
    "# Preprocessing the data.\n",
    "countries = [list(set([c[\"country\"] for c in paper if c[\"country\"]])) for paper in countries]\n",
    "countries = [c for paper in countries for c in paper if len(paper) > 0]\n",
    "countries = pd.Series(countries)\n",
    "countries.replace({\"Hong Kong\": \"China\"}, inplace=True)\n",
    "countries = countries.value_counts().reset_index().rename(columns={\"index\": \"country\", \"count\": \"num_paper\"}).head(10)"
   ]
  },
  {
   "cell_type": "code",
   "execution_count": null,
   "metadata": {},
   "outputs": [],
   "source": [
    "# Listing the data.\n",
    "countries"
   ]
  },
  {
   "cell_type": "code",
   "execution_count": null,
   "metadata": {},
   "outputs": [],
   "source": [
    "# Plotting the data.\n",
    "Plots.plot_single_bar_chart(countries.country, countries.num_paper, \"Top 10 Countries\", None, \"Number of Manuscripts\",\n",
    "                            name_fig=\"countries.png\")"
   ]
  },
  {
   "cell_type": "markdown",
   "metadata": {},
   "source": [
    "### 5.2. Vehicles"
   ]
  },
  {
   "cell_type": "code",
   "execution_count": null,
   "metadata": {},
   "outputs": [],
   "source": [
    "# Getting the data.\n",
    "vehicles = df_data.loc[df_data.vehicle_name.notnull(), \"vehicle_name\"].copy()"
   ]
  },
  {
   "cell_type": "code",
   "execution_count": null,
   "metadata": {},
   "outputs": [],
   "source": [
    "# Processing the data.\n",
    "vehicles = vehicles.value_counts().reset_index().rename(columns={\"count\": \"num_paper\"}).head(10)"
   ]
  },
  {
   "cell_type": "code",
   "execution_count": null,
   "metadata": {},
   "outputs": [],
   "source": [
    "# Listing the data.\n",
    "for idx, v in vehicles.iterrows():\n",
    "    print(f\"{v.vehicle_name} ({v.num_paper})\")"
   ]
  },
  {
   "cell_type": "code",
   "execution_count": null,
   "metadata": {},
   "outputs": [],
   "source": [
    "# Plotting the data.\n",
    "Plots.plot_single_bar_chart(vehicles.vehicle_name, vehicles.num_paper, \"Top 10 Publication Vehicles\", None, \"Number of Manuscripts\",\n",
    "                            name_fig=\"vehicles.png\")"
   ]
  },
  {
   "cell_type": "markdown",
   "metadata": {},
   "source": [
    "### 5.3. Authors"
   ]
  },
  {
   "cell_type": "code",
   "execution_count": null,
   "metadata": {},
   "outputs": [],
   "source": [
    "# Getting the data.\n",
    "authors = df_data.loc[df_data.authors.notnull(), \"authors\"].copy()"
   ]
  },
  {
   "cell_type": "code",
   "execution_count": null,
   "metadata": {},
   "outputs": [],
   "source": [
    "# Preprocessing the data.\n",
    "authors = [list(set([a[\"name\"] for a in paper if a[\"name\"]])) for paper in authors]\n",
    "authors = [a for paper in authors for a in paper if len(paper) > 0]\n",
    "authors = pd.Series(authors)\n",
    "authors = authors.value_counts().reset_index().rename(columns={\"index\": \"author\", \"count\": \"num_paper\"}).head(10)"
   ]
  },
  {
   "cell_type": "code",
   "execution_count": null,
   "metadata": {},
   "outputs": [],
   "source": [
    "# Listing the data.\n",
    "authors"
   ]
  },
  {
   "cell_type": "markdown",
   "metadata": {},
   "source": [
    "### 5.4. Affiliations"
   ]
  },
  {
   "cell_type": "code",
   "execution_count": null,
   "metadata": {},
   "outputs": [],
   "source": [
    "# Getting the data.\n",
    "affiliations = df_data.loc[df_data.affiliations.notnull(), \"affiliations\"].copy()"
   ]
  },
  {
   "cell_type": "code",
   "execution_count": null,
   "metadata": {},
   "outputs": [],
   "source": [
    "# Preprocessing the data.\n",
    "affiliations = [list(set([a[\"affiliation\"] for a in paper if a[\"affiliation\"]])) for paper in affiliations]\n",
    "affiliations = [a for paper in affiliations for a in paper if len(paper) > 0]\n",
    "affiliations = pd.Series(affiliations)\n",
    "affiliations = affiliations.value_counts().reset_index().rename(columns={\"index\": \"affiliation\", \"count\": \"num_paper\"}).head(15)"
   ]
  },
  {
   "cell_type": "code",
   "execution_count": null,
   "metadata": {},
   "outputs": [],
   "source": [
    "# Listing the data.\n",
    "affiliations"
   ]
  },
  {
   "cell_type": "code",
   "execution_count": null,
   "metadata": {},
   "outputs": [],
   "source": [
    "# Plotting the data.\n",
    "Plots.plot_single_bar_chart(affiliations.affiliation, affiliations.num_paper, \"Top 15 Affiliations\", None, \"Number of Manuscripts\",\n",
    "                            name_fig=\"affiliations.png\")"
   ]
  },
  {
   "cell_type": "markdown",
   "metadata": {},
   "source": [
    "### 5.5. Approach"
   ]
  },
  {
   "cell_type": "code",
   "execution_count": null,
   "metadata": {},
   "outputs": [],
   "source": [
    "# Getting the data.\n",
    "categories = df_data.loc[df_data.category.notnull(), \"category\"].copy()"
   ]
  },
  {
   "cell_type": "code",
   "execution_count": null,
   "metadata": {},
   "outputs": [],
   "source": [
    "# Preprocessing the data.\n",
    "categories = categories.value_counts().reset_index().rename(columns={\"count\": \"num_paper\"})\n",
    "total = categories.num_paper.sum()\n",
    "categories[\"percent\"] = (categories.num_paper / total) * 100"
   ]
  },
  {
   "cell_type": "code",
   "execution_count": null,
   "metadata": {},
   "outputs": [],
   "source": [
    "# Plotting the data.\n",
    "Plots.plot_pie_chart(categories.category, categories.percent, None,\n",
    "                     name_fig=\"approaches.png\")"
   ]
  },
  {
   "cell_type": "markdown",
   "metadata": {},
   "source": [
    "### 5.6. Multimodal"
   ]
  },
  {
   "cell_type": "code",
   "execution_count": null,
   "metadata": {},
   "outputs": [],
   "source": [
    "# Getting the data.\n",
    "multimodal = df_data.loc[df_data.multimodal.notnull(), \"multimodal\"].copy()"
   ]
  },
  {
   "cell_type": "code",
   "execution_count": null,
   "metadata": {},
   "outputs": [],
   "source": [
    "# Preprocessing the data.\n",
    "multimodal = multimodal.value_counts().reset_index().rename(columns={\"count\": \"num_paper\"})\n",
    "total = multimodal.num_paper.sum()\n",
    "multimodal[\"percent\"] = (multimodal.num_paper / total) * 100"
   ]
  },
  {
   "cell_type": "code",
   "execution_count": null,
   "metadata": {},
   "outputs": [],
   "source": [
    "# Plotting the data.\n",
    "Plots.plot_pie_chart(multimodal.multimodal, multimodal.percent, None,\n",
    "                     name_fig=\"multimodal.png\")"
   ]
  }
 ],
 "metadata": {
  "kernelspec": {
   "display_name": "research",
   "language": "python",
   "name": "python3"
  },
  "language_info": {
   "codemirror_mode": {
    "name": "ipython",
    "version": 3
   },
   "file_extension": ".py",
   "mimetype": "text/x-python",
   "name": "python",
   "nbconvert_exporter": "python",
   "pygments_lexer": "ipython3",
   "version": "3.11.5"
  }
 },
 "nbformat": 4,
 "nbformat_minor": 2
}
